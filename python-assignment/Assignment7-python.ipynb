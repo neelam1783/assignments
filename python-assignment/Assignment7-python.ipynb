{
 "cells": [
  {
   "cell_type": "markdown",
   "id": "9b61e9fd",
   "metadata": {},
   "source": [
    "Programming Basic Assignment 7\n",
    "1. Write a Python Program to find sum of array?\n",
    "2. Write a Python Program to find largest element in an array?\n",
    "3. Write a Python Program for array rotation?\n",
    "4. Write a Python Program to Split the array and add the first part to the end?\n",
    "5. Write a Python Program to check if given array is Monotonic?"
   ]
  },
  {
   "cell_type": "markdown",
   "id": "c99c6440",
   "metadata": {},
   "source": [
    "Write a Python Program to find sum of array?"
   ]
  },
  {
   "cell_type": "code",
   "execution_count": 1,
   "id": "535161a8",
   "metadata": {},
   "outputs": [
    {
     "name": "stdout",
     "output_type": "stream",
     "text": [
      "sum of array is  45\n"
     ]
    }
   ],
   "source": [
    "arr1= [1,2,3,4,5,6,7,8,9]\n",
    "sum_array=0\n",
    "for i in range (len(arr1)):\n",
    "    sum_array=sum_array + arr1[i]\n",
    "print(\"sum of array is \", sum_array)"
   ]
  },
  {
   "cell_type": "markdown",
   "id": "7f9dc622",
   "metadata": {},
   "source": [
    "Write a Python Program to find largest element in an array?"
   ]
  },
  {
   "cell_type": "code",
   "execution_count": 2,
   "id": "12998091",
   "metadata": {},
   "outputs": [
    {
     "name": "stdout",
     "output_type": "stream",
     "text": [
      "60\n"
     ]
    }
   ],
   "source": [
    "arr1=[20,40,50,60]\n",
    "large=0\n",
    "for i in range(len(arr1)):\n",
    "    if arr1[i] > large:\n",
    "        large = arr1[i]\n",
    "print(large)"
   ]
  },
  {
   "cell_type": "markdown",
   "id": "82500a28",
   "metadata": {},
   "source": [
    "Write a Python Program for array rotation?"
   ]
  },
  {
   "cell_type": "code",
   "execution_count": 3,
   "id": "20c61a3b",
   "metadata": {},
   "outputs": [
    {
     "name": "stdout",
     "output_type": "stream",
     "text": [
      "[50, 60, 80, 20, 40]\n",
      "5\n"
     ]
    }
   ],
   "source": [
    "#left rotate \n",
    "\n",
    "arr1=[20,40,50,60,80]\n",
    "temp=0\n",
    "shift= 2       #no of rotation \n",
    "for j in range (0,shift):\n",
    "    temp= arr1[0]\n",
    "    for i in range (len(arr1)-1):\n",
    "           arr1[i]= arr1[i+1]\n",
    "    arr1[len(arr1)-1]=temp\n",
    "print(arr1)\n",
    "print(len(arr1))"
   ]
  },
  {
   "cell_type": "code",
   "execution_count": 4,
   "id": "0acdb80b",
   "metadata": {},
   "outputs": [
    {
     "name": "stdout",
     "output_type": "stream",
     "text": [
      "[60, 80, 20, 40, 50]\n"
     ]
    }
   ],
   "source": [
    "# right rotate\n",
    "\n",
    "arr1=[20,40,50,60,80]\n",
    "temp=0\n",
    "shift= 2       #no of rotation \n",
    "l=(len(arr1)-1)\n",
    "for j in range (0,shift):\n",
    "    temp= arr1[len(arr1)-1]\n",
    "    for i in range (len(arr1)-1,0,-1):  # -1 as we want loop in reverse order\n",
    "        arr1[i]= arr1[i-1]\n",
    "    arr1[0]=temp\n",
    "        \n",
    "print(arr1)"
   ]
  },
  {
   "cell_type": "code",
   "execution_count": null,
   "id": "644a353f",
   "metadata": {},
   "outputs": [],
   "source": [
    "Write a Python Program to Split the array and add the first part to the end?"
   ]
  },
  {
   "cell_type": "code",
   "execution_count": 5,
   "id": "6e08edc7",
   "metadata": {},
   "outputs": [
    {
     "name": "stdout",
     "output_type": "stream",
     "text": [
      "[14, 8, 4, 12, 45, 23, 67]\n"
     ]
    }
   ],
   "source": [
    "def splitarray(arr1,n,k):\n",
    "    b=arr1[:k]\n",
    "    return(arr1[k::]+b[::])\n",
    "\n",
    "arr1=[12,45,23,67,14,8,4]\n",
    "n=len(arr1)\n",
    "k=4     # position to split array\n",
    "arr1=splitarray(arr1,n,k)\n",
    "\n",
    "\n",
    "print (arr1)"
   ]
  },
  {
   "cell_type": "code",
   "execution_count": 6,
   "id": "06647304",
   "metadata": {},
   "outputs": [],
   "source": [
    "## An array is monotonic if all elements are in increasing or decreasing order\n",
    "def monotonic(a):\n",
    "    return (all(a[i] <= a[i+1] for i in range(len(a)-1)) or\n",
    "            all(a[i] >= a[i+1] for i in range(len(a)-1)) )\n",
    "    "
   ]
  },
  {
   "cell_type": "code",
   "execution_count": 7,
   "id": "cb72ee82",
   "metadata": {},
   "outputs": [
    {
     "name": "stdout",
     "output_type": "stream",
     "text": [
      "True\n"
     ]
    }
   ],
   "source": [
    "a=[1,2,3,4,6,6,7]\n",
    "print (monotonic(a))"
   ]
  },
  {
   "cell_type": "code",
   "execution_count": 8,
   "id": "faa817d3",
   "metadata": {},
   "outputs": [
    {
     "name": "stdout",
     "output_type": "stream",
     "text": [
      "False\n"
     ]
    }
   ],
   "source": [
    "a=a=[1,2,10,4,6,6,7]\n",
    "print (monotonic(a))"
   ]
  },
  {
   "cell_type": "code",
   "execution_count": null,
   "id": "cee950d2",
   "metadata": {},
   "outputs": [],
   "source": []
  }
 ],
 "metadata": {
  "kernelspec": {
   "display_name": "Python 3 (ipykernel)",
   "language": "python",
   "name": "python3"
  },
  "language_info": {
   "codemirror_mode": {
    "name": "ipython",
    "version": 3
   },
   "file_extension": ".py",
   "mimetype": "text/x-python",
   "name": "python",
   "nbconvert_exporter": "python",
   "pygments_lexer": "ipython3",
   "version": "3.9.12"
  }
 },
 "nbformat": 4,
 "nbformat_minor": 5
}
